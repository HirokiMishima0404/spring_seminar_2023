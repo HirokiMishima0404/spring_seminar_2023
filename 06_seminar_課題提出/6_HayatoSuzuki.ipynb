{
  "nbformat": 4,
  "nbformat_minor": 0,
  "metadata": {
    "colab": {
      "provenance": []
    },
    "kernelspec": {
      "name": "python3",
      "display_name": "Python 3"
    },
    "language_info": {
      "name": "python"
    }
  },
  "cells": [
    {
      "cell_type": "markdown",
      "source": [
        "問１．"
      ],
      "metadata": {
        "id": "LP9sPjWvWIWj"
      }
    },
    {
      "cell_type": "code",
      "source": [
        "import numpy as np\n",
        "import matplotlib.pyplot as plt\n",
        "import torch\n",
        "import statistics\n",
        "\n",
        "a = ['m','c','i','e','p','r','e','t','o',' ','o','o','i','s','g','o','p']\n",
        "b = ['a','h','n',' ','e','c','p','i','n','r','b','t','c','-','r','u','!']\n",
        "\n",
        "text =[ i+j for i,j in zip(a,b) ]\n",
        "\n",
        "for ch in text:\n",
        "   print(ch, end=\"\")"
      ],
      "metadata": {
        "colab": {
          "base_uri": "https://localhost:8080/"
        },
        "id": "FcN6elkqWVYb",
        "outputId": "f42c8b92-22cb-4028-f4a9-de031499e69d"
      },
      "execution_count": 10,
      "outputs": [
        {
          "output_type": "stream",
          "name": "stdout",
          "text": [
            "machine perception robotics-group!"
          ]
        }
      ]
    },
    {
      "cell_type": "markdown",
      "source": [
        "問２．"
      ],
      "metadata": {
        "id": "JFfeEHeCYU1R"
      }
    },
    {
      "cell_type": "code",
      "source": [
        "math = np.array([40, 15, 72, 22, 43, 82, 75, 7, 34, 49, 95, 75, 85, 47, 63])\n",
        "\n",
        "pas = len(math[(math >= 70)])\n",
        "print(pas)\n",
        "\n",
        "print(\"\")\n",
        "\n",
        "Z = (math - np.mean(math)) / np.std(math)\n",
        "print(Z)"
      ],
      "metadata": {
        "colab": {
          "base_uri": "https://localhost:8080/"
        },
        "id": "FpKZ7JvgYWNM",
        "outputId": "cad58d73-c08f-4fa9-a5f8-161f92b60de5"
      },
      "execution_count": 22,
      "outputs": [
        {
          "output_type": "stream",
          "name": "stdout",
          "text": [
            "6\n",
            "\n",
            "[-0.52012054 -1.47622446  0.70369249 -1.20851536 -0.40538806  1.08613406\n",
            "  0.81842496 -1.78217772 -0.74958548 -0.17592312  1.5833081   0.81842496\n",
            "  1.20086653 -0.25241144  0.35949508]\n"
          ]
        }
      ]
    },
    {
      "cell_type": "markdown",
      "source": [
        "問３．"
      ],
      "metadata": {
        "id": "zNIUCbINZdE6"
      }
    },
    {
      "cell_type": "code",
      "source": [
        "# sigmoid\n",
        "def sigmoid(x):\n",
        "    return 1 / (1 + np.exp(-x))\n",
        "\n",
        "# softmax\n",
        "def softmax(x):\n",
        "    exp_x = np.exp(x)\n",
        "    return exp_x / np.sum(exp_x, axis=0)\n",
        "\n",
        "# tanh\n",
        "def tanh(x):\n",
        "    return np.tanh(x)\n",
        "\n",
        "x = np.arange(-5.0, 5.0, 0.1)\n",
        "\n",
        "y_sigmoid = sigmoid(x)\n",
        "y_softmax = softmax(x)\n",
        "y_tanh = tanh(x)\n",
        "\n",
        "plt.plot(x, y_sigmoid, label='sigmoid')\n",
        "plt.plot(x, y_softmax, label='softmax')\n",
        "plt.plot(x, y_tanh, label='tanh')\n",
        "plt.xlabel(\"x\")\n",
        "plt.ylabel(\"y\")\n",
        "plt.title(\"sigmoid, softmax, tanh\")\n",
        "plt.legend()\n",
        "plt.show()"
      ],
      "metadata": {
        "colab": {
          "base_uri": "https://localhost:8080/",
          "height": 295
        },
        "id": "2CqH7HzmZe6O",
        "outputId": "5a5849ff-62e9-48e8-c5db-50c69f2f664a"
      },
      "execution_count": 24,
      "outputs": [
        {
          "output_type": "display_data",
          "data": {
            "text/plain": [
              "<Figure size 432x288 with 1 Axes>"
            ],
            "image/png": "[encoded data removed]"
          },
          "metadata": {
            "needs_background": "light"
          }
        }
      ]
    }
  ]
}