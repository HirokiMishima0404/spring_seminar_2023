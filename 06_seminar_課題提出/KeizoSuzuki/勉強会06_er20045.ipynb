{
  "nbformat": 4,
  "nbformat_minor": 0,
  "metadata": {
    "colab": {
      "provenance": []
    },
    "kernelspec": {
      "name": "python3",
      "display_name": "Python 3"
    },
    "language_info": {
      "name": "python"
    }
  },
  "cells": [
    {
      "cell_type": "code",
      "source": [
        "import numpy as np\n",
        "import matplotlib.pyplot as plt"
      ],
      "metadata": {
        "id": "5cuH_fCMl3n1"
      },
      "execution_count": 2,
      "outputs": []
    },
    {
      "cell_type": "markdown",
      "source": [
        "# 課題1\n"
      ],
      "metadata": {
        "id": "CNWu6xoIjuM0"
      }
    },
    {
      "cell_type": "code",
      "execution_count": 6,
      "metadata": {
        "colab": {
          "base_uri": "https://localhost:8080/"
        },
        "id": "NyiNbINLjtXz",
        "outputId": "c5861897-8285-4c63-d4b3-77838c5b2af0"
      },
      "outputs": [
        {
          "output_type": "stream",
          "name": "stdout",
          "text": [
            "machine perception robotics-group!"
          ]
        }
      ],
      "source": [
        "a = ['m','c','i','e','p','r','e','t','o',' ','o','o','i','s','g','o','p']\n",
        "b = ['a','h','n',' ','e','c','p','i','n','r','b','t','c','-','r','u','!']\n",
        "\n",
        "text = [ n + m for n, m in zip(a,b) ]\n",
        "\n",
        "for ch in text:\n",
        "    print(ch, end=\"\")"
      ]
    },
    {
      "cell_type": "markdown",
      "source": [
        "# 課題2"
      ],
      "metadata": {
        "id": "vVtO_jzhmMDy"
      }
    },
    {
      "cell_type": "code",
      "source": [
        "math = np.array([40, 15, 72, 22, 43, 82, 75, 7, 34, 49, 95, 75, 85, 47, 63])\n",
        "\n",
        "p = np.count_nonzero(math >= 70)\n",
        "print(p)\n",
        "\n",
        "Z = (math - np.mean(math)) / np.std(math)\n",
        "print(Z)"
      ],
      "metadata": {
        "colab": {
          "base_uri": "https://localhost:8080/"
        },
        "id": "ZFuyY9O0mN7z",
        "outputId": "fc416d69-d9be-4aff-9234-77521475e3a4"
      },
      "execution_count": 11,
      "outputs": [
        {
          "output_type": "stream",
          "name": "stdout",
          "text": [
            "6\n",
            "[-0.52012054 -1.47622446  0.70369249 -1.20851536 -0.40538806  1.08613406\n",
            "  0.81842496 -1.78217772 -0.74958548 -0.17592312  1.5833081   0.81842496\n",
            "  1.20086653 -0.25241144  0.35949508]\n"
          ]
        }
      ]
    },
    {
      "cell_type": "markdown",
      "source": [
        "# 課題3"
      ],
      "metadata": {
        "id": "xbZ4Ba-3mOPz"
      }
    },
    {
      "cell_type": "code",
      "source": [
        "def sigmoid(x):\n",
        "    return 1 / (1 + np.exp(-x))\n",
        "\n",
        "def softmax(x):\n",
        "    exp_x = np.exp(x - np.max(x))\n",
        "    return exp_x / np.sum(exp_x)\n",
        "\n",
        "def tanh(x):\n",
        "    return (np.exp(x)-np.exp(-x)) / (np.exp(x)+np.exp(-x))\n",
        "\n",
        "x = np.arange(-5.0, 5.0, 0.1)\n",
        "y_sigm = sigmoid(x)\n",
        "y_soft = softmax(x)\n",
        "y_tanh = tanh(x)\n",
        "\n",
        "plt.plot(x, y_sigm, label='sigmoid')\n",
        "plt.plot(x, y_soft, label='softmax')\n",
        "plt.plot(x, y_tanh, label='tanh')\n",
        "\n",
        "plt.ylim(-1.2, 1.2)\n",
        "plt.grid()\n",
        "plt.legend()\n",
        "plt.title(\"sigmoid, softmax, tanh\")\n",
        "plt.xlabel(\"x\")\n",
        "plt.ylabel(\"y\")\n",
        "plt.show()"
      ],
      "metadata": {
        "colab": {
          "base_uri": "https://localhost:8080/",
          "height": 295
        },
        "id": "Fpo_YJzToMDn",
        "outputId": "09d7dd13-d53a-4dcb-da2c-efd34aa2214d"
      },
      "execution_count": 15,
      "outputs": [
        {
          "output_type": "display_data",
          "data": {
            "text/plain": [
              "<Figure size 432x288 with 1 Axes>"
            ],
            "image/png": "[encoded data removed]"
          },
          "metadata": {
            "needs_background": "light"
          }
        }
      ]
    }
  ]
}